{
 "cells": [
  {
   "cell_type": "code",
   "execution_count": 2,
   "id": "joint-auction",
   "metadata": {},
   "outputs": [],
   "source": [
    "text = [\"Many people are uncomfortable about sharing their values. They view the individual as the sole judge of what is right and what is wrong. This thinking leads to a personal and situational view of ethics, namely, “what I do is my own business.” In this kind of culture, it is difficult to confront people when their values differ from those of the organization. In the book Habits of the Heart, Robert Bellah and his associates explore the dangers of rampant individualism in our society. They suggest that if individualism is America’s greatest strength, it may also be its greatest weakness if taken too far. When self-interest asserts itself at the expense of the broader community, then it becomes a problem.\",\n",
    "       \"The division of the world into rich and poor paralleled the division of the world into coffee drinkers, overwhelmingly concentrated in the industrialized global north, and coffee workers, even more concentrated in the predominantly agricultural and perpetually “developing” global south. As the most valuable agricultural product of the world’s poorest regions, coffee has played a central role in shaping this divide. In the last 150 years, coffee has become an exceptionally valuable commodity — exports are now worth over $25 billion a year, and retail sales many times more —that is a virtual monopoly of the world’s poorest nations. Coffee is not just one of the most important commodities in the history of global capitalism, as is commonly claimed — it is one of the most important commodities in the history of global inequality\",\n",
    "       \"It is time that often plays a crucial and defining role in environmental economics. Traditional economics can determine efficient ways to allocate resources for producing goods and services. The allocation is, however, simplified and confined to a single period of time with the underlying presumption that the production of an additional unit of a commodity today does not prevent producing one tomorrow. In the case of many environmental goods, allocation of resources over a long period is critical. For example, while burning fossil fuels and polluting the environment today, we may be creating problems for future generations for years or forever. Similarly, if we harvest all prawns today, the supply will be gone forever. Our consumption decisions of some environmental goods may be ‘irreversible’ and may have a profound impact on the well-being of future generations\",\n",
    "       \"Choosing similar friends can have a rationale. Assessing the survivability of an environment can be risky (if an environment turns out to be deadly, for instance, it might be too late by the time you found out), so humans have evolved the desire to associate with similar individuals as a way to perform this function efficiently. This is especially useful to a species that lives in so many different sorts of environments. However, the carrying capacity of a given environment places a limit on this strategy. If resources are very limited, the individuals who live in a particular place cannot all do the exact same thing (for example, if there are few trees, people cannot all live in tree houses, or if mangoes are in short supply, people cannot all live solely on a diet of mangoes). A rational strategy would therefore sometimes be to avoid similar members of one’s species.\",\n",
    "       \"Reflecting on the extremely rare occasions in which we fundamentally reframe our understanding of the universe causes us to think carefully about the limits on the role of science. Science 15 the art of measuring and of developing models to produce predictions. Discussions about scientific models often provoke deeper questions about why the universe is in the condition it is in. What actually is electrical charge? Why is there a gravitational pull between objects? Why do we have the particles we have and not others? Science presses hard on these questions, closing in as far as it may, but ultimately questions about why things are as they are, as opposed to 17707 they are, lead us into the realms of philosophy and religion. Science can clear away much of the falsehood on the way, but the ultimate questions of reality call more for acts of belief than scientific explanation. It’s a matter of opinion how far scientific models alone provide a full and satisfactory explanation.\",\n",
    "        \"In explaining others’ actions, we frequently commit the fundamental attribution error. We attribute others’ behavior so much to their inner dispositions that we discount important situational forces. The error occurs partly because our attention focuses on the person, not on the situation. A person’s race or sex is vivid and gets attention; the situational forces working on that person are usually less visible. Slavery was often overlooked as an explanation for slave behavior; the behavior was instead attributed to the slaves’ own nature. Until recently, the same was true of how we explained the perceived differences between women and men. Because gender-role constraints were hard to see, we attributed men’s and women’s behavior solely to their innate dispositions. The more people assume that human traits are fixed dispositions, the stronger are their stereotypes and the greater their acceptance of racial inequities.\",\n",
    "        \"Even though philosophy is a communal enterprise dedicated to exploring our justification for using the criteria we use to distinguish between, for example, moral and immoral actions, truth and falsity, reality and appearance, and more, philosophical discourse proceeds by argumentation. So a philosopher might put forward “correspondence to reality” as a criterion for distinguishing a true belief from a false one. In order to determine whether that is an adequate criterion, other philosophers would critically discuss that proposal, and one might criticize it by pointing out that we have no means of telling whether or not an idea corresponds to reality because our access to reality is always mediated by our ideas. And that’s exactly how a philosophical discussion develops, with all the parties to it advocating their own point of view (although they can jump ship and switch to the other side!) at the same time that they are committed to jointly figuring out the correct answer to the question. \",\n",
    "        \"Robert Putnam, a Harvard political scientist, Cass Sunstein, a respected legal scholar and a former senior official in the Obama administration, and Eli Pariser, the director of MoveOn.Org, are among those who warn that cable and web-based media are creating and reinforcing a series of identity ghettos. Their argument is a variant of the old “selective exposure” thesis: we choose to be exposed only to media that reinforce the views that we already have. Their concern is that as people congregate in their own comfortable media enclaves, the opportunity to meet and exchange ideas with those who have different views is vanishing. Political activists, hockey fans, and followers of every imaginable show, game, music video, or celebrity all gravitate not to great public spaces, but to the limited and protected confines of their own groups. As Pariser argues, “By definition, a world constructed from the familiar is a world in which there’s nothing to learn.” For Pariser, the danger is that “you can get stuck in a static, ever-narrowing version of yourself —an endless you-loop.”. In the end, “the user has become the content”\",\n",
    "        \"Social infrastructures that promote efficiency tend to discourage interaction and the formation of strong ties. One recent study, for instance, shows that a day care center that encourages caregivers and parents to walk in and wait for their children, often inside the classroom and generally at the same time, fosters more social connections and supportive relationships than one where managers allow parents to come in on their own schedules and hurry through drop-off and pickup so they can quickly return to their private lives. Because much of our hard infrastructure —highways, airports, food supply chains, and the like —is designed to promote better circulation of people or vital resources, it can accelerate the trend of social atomization. Think, for example, about the contrast between a village where everyone gets their water from the same well and a city where everyone gets their water from faucets in their private homes. \",\n",
    "        \"Learning to work with color has many similarities with learning how to cook. A good recipe is no guarantee of success, but the secret of a first-rate outcome is often in preparation. The cook must constantly sample, taste, and make adjustments. The colors in a scene can be thought of as the ingredients that make up the picture; their arrangement and mixture will determine the final result. Two cooks can start off with the same ingredients yet each produce a completed dish that tastes quite different from the other. Simply by making small changes in quantity, one of the ingredients will lose its identity while another becomes more dominant. Cooking teaches that a successful meal involves more than reading a recipe. The same holds true for a photographer. Changes in color placement within a composition cause shifts in dominance, which can alter the entire feeling or mood of the picture. Also remember that properly presented food/photographs show that the cook/photographer has thought about every stage of the dining/visual experience, and set the psychological stage for the diner’s/viewer’s response. \",\n",
    "        \"In thinking about ancient foragers, modern models loom large. They are a lens through which the remains of ancient lives have been interpreted. This poses a methodological problem, for ancient and modern foragers are profoundly different. Despite these differences, we can use modern data to answer important questions about ancient lives. In favorable cases, we can correct for the differences between ancient and modern foraging worlds. In particular, in considering the cooperative foraging model of human life history, modern data offer a conservative test. The ancient-to-modern transition would tend to reduce the significance of a class of important features of ancient forager lifeways, ones that make cooperation more important. So if we still find those features playing a role in the lives of modern foragers we can reasonably project them back onto the lives of ancient foragers.\",\n",
    "        \"It is entirely reasonable to suppose that religion, despite its flaws, has been one of the great humanising movements of recent European history. It was religion, not secular thought, that advanced the view that nature is founded on a deep rationality. Among the greatest defenders of reason in philosophical thought were Anselm and Aquinas, who believed that since God created the universe through the Logos, the divine wisdom, the universe must be supremely rational. It is no accident that modern science took root and flourished in a basically Christian society. Copernicus was a canon of the Catholic Church. Kepler studied the heavens believing that they manifested the wisdom and beauty of God. Newton formulated the laws of nature in the belief that the wise author of nature must have ordered the cosmos in accordance with rational and comprehensible principles. An important motivating force in science is the belief that there are comprehensible, elegant and mathematically beautiful laws in nature. It did not have to be that way — unless there is a supremely rational creator. \",\n",
    "        \"Cholera, a horrific disease acquired by drinking water contaminated with infected fecal matter, was more than a symbol of an interconnected globe. It was a physical presence. Its dramatic and sudden arrival in Europe in 1831 threw many into fits of fear; it signaled to some the arrival of a new plague. Some people fled, just as they had during plague epidemics; others stayed. Fear of cholera was at times out of proportion to the actual threat. In 1831, as cholera made its way through Russia, the anxious English awaited its arrival. Newspapers, pamphlets, and rumor spread fear of the disease. But Dr. James Johnson, editor of the Medico-Chirurgical Review, cautioned the press in a letter to The Times: “It will hardly be doubted that the terrible malady choleraphobia rages at this moment, epidemically, through every spot of the British Isles.... The choleraphobia will frighten to death a far greater number of Britons than the monster itself will ever destroy by his actual presence.” \",\n",
    "        \"One of the keys to end all wars, hatred, bigotry, suffering, violence, and disease is kindness. Perform acts of kindness every single day. When you act with kindness, your brain increases its serotonin level going into your system. Serotonin is an organic compound, found in the brain, which makes you feel good. It also boosts your immune system. So, with acts of kindness, you get two for one. You feel good and you ward off illness. However, here’s the best part, the person who is the recipient of the act of kindness also feels an increase in his or her serotonin level as well as does everyone in the immediate vicinity. This is beautiful stuff. If we all performed one little act of kindness each day, eventually we would have a world at peace and free of  disease! \",\n",
    "        \"The ‘inauthentic’ as somehow ‘not being the real thing’ has long been a feature of the tourism industry. Whatever we may argue with regard to what the tourist may want, what he or she actually gets is another matter entirely. It is not difficult to conceive of a situation in which Shakespeare’s birthplace was found not to be Shakespeare’s birthplace but was still promoted as such to tourists, many of whom would be none the wiser, and many others who would still be able to absorb an interesting presentation of social heritage without the hook of any famous association. Indeed, this is exactly what happened with Hans Christian Andersen’s birthplace, which was preserved during his lifetime in honour of his achievement but was also denounced by him as not being the birthplace at all. Now referred to as ‘the house traditionally associated with Hans Christian Andersen’, it is still the core of the ‘Hans Christian Andersen Museum’ in Odense. Thus, authentic pilgrimage continues to centre on an inauthentic location.\",\n",
    "        \"One of the problems with a belief system characterized by radical individualism is that it promotes a narrow and limited understanding of freedom. Even though American political culture is especially associated with the twin concepts of freedom and liberty, our historical interpretation and application of freedom lacks consensus and consistency. Many of us learned in grade school that the Pilgrims fled Europe in search of religious freedom, but when the first European settlers found their freedom in the new land it was at the expense of native people who experienced domination at the hands of the American colonizers. Similarly, students are taught that the American Revolution was a war of independence from the tyranny of the British, but the historical record also reveals that many of our great patriots were not concerned with the tyranny they inflicted on their very own African slaves. \",\n",
    "        \"US researchers suspect that there are definite disadvantages to our powerful brain. They compared the self-destructive programming of human cells with a similar programme that works in great apes, specifically chimpanzees. This programme destroys and dismantles old and defective cells. Their comparison showed that the clean-up mechanism is a lot more effective in chimpanzees than it is in people, and the researchers believe that the reduced rate at which cells are broken down in humans allows for larger brain growth and a higher rate of connections between cells. But this improvement in intelligence probably comes at a high price, because the chimps’ self-cleansing mechanism also gets rid of cancer cells. Whereas chimpanzees hardly ever get cancer, in humans this disease is one of the top causes of death. Are we paying the price for our intellectual capacities? If our current level of intelligence is not suited to the survival of humankind, it must either be increased or lowered. The latter is probably unacceptable, as we can’t reconcile it with our ideas about self-worth. \"\n",
    "       ]\n",
    "\n",
    "extract_summarize = []\n",
    "abstract_summarize = []"
   ]
  },
  {
   "cell_type": "code",
   "execution_count": 3,
   "id": "checked-portrait",
   "metadata": {},
   "outputs": [],
   "source": [
    "def summarize_T5(text):\n",
    "    import torch\n",
    "    import json \n",
    "    import time\n",
    "    from transformers import T5Tokenizer, T5ForConditionalGeneration, T5Config\n",
    "\n",
    "    time0 = time.time()      \n",
    "    \n",
    "    model = T5ForConditionalGeneration.from_pretrained('t5-small')\n",
    "    tokenizer = T5Tokenizer.from_pretrained('t5-small')\n",
    "    device = torch.device('cpu')\n",
    "\n",
    "    preprocess_text = text.strip().replace(\"\\n\",\"\")\n",
    "    t5_prepared_Text = \"summarize: \"+preprocess_text\n",
    "    tokenized_text = tokenizer.encode(t5_prepared_Text, return_tensors=\"pt\").to(device)\n",
    "    \n",
    "    # summmarize \n",
    "    summary_ids = model.generate(tokenized_text,\n",
    "                                    num_beams=4,\n",
    "                                    no_repeat_ngram_size=2,\n",
    "                                    min_length=30,\n",
    "                                    max_length=100,\n",
    "                                    early_stopping=True)\n",
    "\n",
    "    output = tokenizer.decode(summary_ids[0], skip_special_tokens=True)\n",
    "    \n",
    "    #print(\"\\n\\nelapsed time for summarize: \\n\", time.time() - time0, \"seconds\")  \n",
    "    \n",
    "    return output"
   ]
  },
  {
   "cell_type": "code",
   "execution_count": 4,
   "id": "metropolitan-indicator",
   "metadata": {},
   "outputs": [],
   "source": [
    "from gensim.summarization.summarizer import summarize"
   ]
  },
  {
   "cell_type": "code",
   "execution_count": 5,
   "id": "trained-raising",
   "metadata": {},
   "outputs": [
    {
     "name": "stdout",
     "output_type": "stream",
     "text": [
      "['This thinking leads to a personal and situational view of ethics, namely, “what I do is my own business.” In this kind of culture, it is difficult to confront people when their values differ from those of the organization.']\n"
     ]
    }
   ],
   "source": [
    "for i in range(len(text)):\n",
    "    #abstract_summarize.append(summarize_T5(text[0]))\n",
    "    extract_summarize.append(summarize(text[i]))\n",
    "\n",
    "#print(abstract_summerize)\n",
    "print(extract_summarize)"
   ]
  },
  {
   "cell_type": "code",
   "execution_count": 8,
   "id": "satellite-colleague",
   "metadata": {},
   "outputs": [
    {
     "name": "stdout",
     "output_type": "stream",
     "text": [
      "Keywords of article 1 \n",
      " ['robert', 'greatest', 'values', 'differ', 'view']\n",
      "Keywords of article 2 \n",
      " ['poor paralleled', 'coffee', 'overwhelmingly', 'poorest']\n",
      "Keywords of article 3 \n",
      " ['defining role', 'goods', 'today', 'fossil']\n",
      "Keywords of article 4 \n",
      " ['choosing similar friends', 'individuals', 'avoid']\n",
      "Keywords of article 5 \n",
      " ['scientific', 'deeper questions', 'predictions', 'rare']\n",
      "Keywords of article 6 \n",
      " ['frequently commit', 'attribution', 'attribute', 'attributed', 'attention']\n",
      "Keywords of article 7 \n",
      " ['dedicated', 'communal', 'philosophical', 'philosopher', 'philosophers', 'truth', 'immoral']\n",
      "Keywords of article 8 \n",
      " ['robert', 'putnam', 'moveon', 'legal']\n",
      "Keywords of article 9 \n",
      " ['social infrastructures', 'infrastructure', 'care', 'allow', 'private']\n",
      "Keywords of article 10 \n",
      " ['meal', 'color', 'colors', 'placement', 'completed dish']\n",
      "Keywords of article 11 \n",
      " ['foraging', 'forager', 'foragers modern models', 'important', 'different', 'differences', 'model']\n",
      "Keywords of article 12 \n",
      " ['reason', 'entirely reasonable', 'rationality', 'rational', 'beauty', 'beautiful', 'comprehensible']\n",
      "Keywords of article 13 \n",
      " ['horrific disease acquired', 'water', 'greater']\n",
      "Keywords of article 14 \n",
      " ['hatred', 'bigotry', 'suffering', 'wars', 'violence']\n",
      "Keywords of article 15 \n",
      " ['location', 'inauthentic', 'industry', 'tourism', 'gets']\n",
      "Keywords of article 16 \n",
      " ['radical individualism', 'limited understanding', 'lacks']\n",
      "Keywords of article 17 \n",
      " ['researchers suspect', 'believe', 'programme', 'specifically']\n"
     ]
    }
   ],
   "source": [
    "#Text-Rank\n",
    "from summa import keywords\n",
    "for j in range(len(text)):\n",
    "    print(\"Keywords of article\", str(j+1), \"\\n\", (keywords.keywords(text[j], words=5)).split(\"\\n\"))"
   ]
  },
  {
   "cell_type": "code",
   "execution_count": 7,
   "id": "artificial-oracle",
   "metadata": {},
   "outputs": [
    {
     "ename": "UnicodeDecodeError",
     "evalue": "'cp949' codec can't decode byte 0xe2 in position 1218: illegal multibyte sequence",
     "output_type": "error",
     "traceback": [
      "\u001b[1;31m---------------------------------------------------------------------------\u001b[0m",
      "\u001b[1;31mUnicodeDecodeError\u001b[0m                        Traceback (most recent call last)",
      "\u001b[1;32m<ipython-input-7-cfa51ff1fa26>\u001b[0m in \u001b[0;36m<module>\u001b[1;34m\u001b[0m\n\u001b[0;32m      3\u001b[0m \u001b[1;32mfrom\u001b[0m \u001b[0mtqdm\u001b[0m\u001b[1;33m.\u001b[0m\u001b[0mnotebook\u001b[0m \u001b[1;32mimport\u001b[0m \u001b[0mtqdm\u001b[0m\u001b[1;33m\u001b[0m\u001b[1;33m\u001b[0m\u001b[0m\n\u001b[0;32m      4\u001b[0m \u001b[1;32mfrom\u001b[0m \u001b[0mre\u001b[0m \u001b[1;32mimport\u001b[0m \u001b[0msub\u001b[0m\u001b[1;33m\u001b[0m\u001b[1;33m\u001b[0m\u001b[0m\n\u001b[1;32m----> 5\u001b[1;33m \u001b[0mnum_lines\u001b[0m \u001b[1;33m=\u001b[0m \u001b[0msum\u001b[0m\u001b[1;33m(\u001b[0m\u001b[1;36m1\u001b[0m \u001b[1;32mfor\u001b[0m \u001b[0mline\u001b[0m \u001b[1;32min\u001b[0m \u001b[0mopen\u001b[0m\u001b[1;33m(\u001b[0m\u001b[1;34m\"wiki_tfidf_terms.csv\"\u001b[0m\u001b[1;33m)\u001b[0m\u001b[1;33m)\u001b[0m\u001b[1;33m\u001b[0m\u001b[1;33m\u001b[0m\u001b[0m\n\u001b[0m\u001b[0;32m      6\u001b[0m \u001b[1;32mwith\u001b[0m \u001b[0mopen\u001b[0m\u001b[1;33m(\u001b[0m\u001b[1;34m\"wiki_tfidf_terms.csv\"\u001b[0m\u001b[1;33m)\u001b[0m \u001b[1;32mas\u001b[0m \u001b[0mfile\u001b[0m\u001b[1;33m:\u001b[0m\u001b[1;33m\u001b[0m\u001b[1;33m\u001b[0m\u001b[0m\n\u001b[0;32m      7\u001b[0m     \u001b[0mdict_idf\u001b[0m \u001b[1;33m=\u001b[0m \u001b[1;33m{\u001b[0m\u001b[1;33m}\u001b[0m\u001b[1;33m\u001b[0m\u001b[1;33m\u001b[0m\u001b[0m\n",
      "\u001b[1;32m<ipython-input-7-cfa51ff1fa26>\u001b[0m in \u001b[0;36m<genexpr>\u001b[1;34m(.0)\u001b[0m\n\u001b[0;32m      3\u001b[0m \u001b[1;32mfrom\u001b[0m \u001b[0mtqdm\u001b[0m\u001b[1;33m.\u001b[0m\u001b[0mnotebook\u001b[0m \u001b[1;32mimport\u001b[0m \u001b[0mtqdm\u001b[0m\u001b[1;33m\u001b[0m\u001b[1;33m\u001b[0m\u001b[0m\n\u001b[0;32m      4\u001b[0m \u001b[1;32mfrom\u001b[0m \u001b[0mre\u001b[0m \u001b[1;32mimport\u001b[0m \u001b[0msub\u001b[0m\u001b[1;33m\u001b[0m\u001b[1;33m\u001b[0m\u001b[0m\n\u001b[1;32m----> 5\u001b[1;33m \u001b[0mnum_lines\u001b[0m \u001b[1;33m=\u001b[0m \u001b[0msum\u001b[0m\u001b[1;33m(\u001b[0m\u001b[1;36m1\u001b[0m \u001b[1;32mfor\u001b[0m \u001b[0mline\u001b[0m \u001b[1;32min\u001b[0m \u001b[0mopen\u001b[0m\u001b[1;33m(\u001b[0m\u001b[1;34m\"wiki_tfidf_terms.csv\"\u001b[0m\u001b[1;33m)\u001b[0m\u001b[1;33m)\u001b[0m\u001b[1;33m\u001b[0m\u001b[1;33m\u001b[0m\u001b[0m\n\u001b[0m\u001b[0;32m      6\u001b[0m \u001b[1;32mwith\u001b[0m \u001b[0mopen\u001b[0m\u001b[1;33m(\u001b[0m\u001b[1;34m\"wiki_tfidf_terms.csv\"\u001b[0m\u001b[1;33m)\u001b[0m \u001b[1;32mas\u001b[0m \u001b[0mfile\u001b[0m\u001b[1;33m:\u001b[0m\u001b[1;33m\u001b[0m\u001b[1;33m\u001b[0m\u001b[0m\n\u001b[0;32m      7\u001b[0m     \u001b[0mdict_idf\u001b[0m \u001b[1;33m=\u001b[0m \u001b[1;33m{\u001b[0m\u001b[1;33m}\u001b[0m\u001b[1;33m\u001b[0m\u001b[1;33m\u001b[0m\u001b[0m\n",
      "\u001b[1;31mUnicodeDecodeError\u001b[0m: 'cp949' codec can't decode byte 0xe2 in position 1218: illegal multibyte sequence"
     ]
    }
   ],
   "source": [
    "# TF_IDF\n",
    "from itertools import islice\n",
    "from tqdm.notebook import tqdm\n",
    "from re import sub\n",
    "num_lines = sum(1 for line in open(\"wiki_tfidf_terms.csv\"))\n",
    "with open(\"wiki_tfidf_terms.csv\") as file:\n",
    "    dict_idf = {}\n",
    "    with tqdm(total=num_lines) as pbar:\n",
    "        for i, line in tqdm(islice(enumerate(file), 1, None)):\n",
    "            try: \n",
    "                cells = line.split(\",\")\n",
    "                idf = float(sub(\"[^0-9.]\", \"\", cells[3]))\n",
    "                dict_idf[cells[0]] = idf\n",
    "            except: \n",
    "                print(\"Error on: \" + line)\n",
    "            finally:\n",
    "                pbar.update(1)"
   ]
  },
  {
   "cell_type": "code",
   "execution_count": null,
   "id": "sound-weather",
   "metadata": {},
   "outputs": [],
   "source": [
    "from sklearn.feature_extraction.text import CountVectorizer\n",
    "from numpy import array, log\n",
    "vectorizer = CountVectorizer()\n",
    "tf = vectorizer.fit_transform([x.lower() for x in text])\n",
    "tf = tf.toarray()\n",
    "tf = log(tf + 1)"
   ]
  },
  {
   "cell_type": "code",
   "execution_count": null,
   "id": "false-badge",
   "metadata": {},
   "outputs": [],
   "source": [
    "tfidf = tf.copy()\n",
    "words = array(vectorizer.get_feature_names())\n",
    "for k in tqdm(dict_idf.keys()):\n",
    "    if k in words:\n",
    "        tfidf[:, words == k] = tfidf[:, words == k] * dict_idf[k]\n",
    "    pbar.update(1)"
   ]
  },
  {
   "cell_type": "code",
   "execution_count": null,
   "id": "through-legislation",
   "metadata": {},
   "outputs": [],
   "source": [
    "for j in range(tfidf.shape[0]):\n",
    "    print(\"Keywords of article\", str(j+1), words[tfidf[j, :].argsort()[-5:][::-1]])"
   ]
  }
 ],
 "metadata": {
  "kernelspec": {
   "display_name": "Python 3",
   "language": "python",
   "name": "python3"
  },
  "language_info": {
   "codemirror_mode": {
    "name": "ipython",
    "version": 3
   },
   "file_extension": ".py",
   "mimetype": "text/x-python",
   "name": "python",
   "nbconvert_exporter": "python",
   "pygments_lexer": "ipython3",
   "version": "3.8.8"
  }
 },
 "nbformat": 4,
 "nbformat_minor": 5
}
